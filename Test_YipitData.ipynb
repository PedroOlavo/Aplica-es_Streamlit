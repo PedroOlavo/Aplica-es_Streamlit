{
  "nbformat": 4,
  "nbformat_minor": 0,
  "metadata": {
    "colab": {
      "provenance": [],
      "authorship_tag": "ABX9TyOyGLKvsPJkUVgJTHynma/4",
      "include_colab_link": true
    },
    "kernelspec": {
      "name": "python3",
      "display_name": "Python 3"
    },
    "language_info": {
      "name": "python"
    }
  },
  "cells": [
    {
      "cell_type": "markdown",
      "metadata": {
        "id": "view-in-github",
        "colab_type": "text"
      },
      "source": [
        "<a href=\"https://colab.research.google.com/github/PedroOlavo/Apps-Streamlit/blob/main/Test_YipitData.ipynb\" target=\"_parent\"><img src=\"https://colab.research.google.com/assets/colab-badge.svg\" alt=\"Open In Colab\"/></a>"
      ]
    },
    {
      "cell_type": "code",
      "execution_count": 1,
      "metadata": {
        "id": "tLkyCmU2kXmX"
      },
      "outputs": [],
      "source": [
        "#import the libraries\n",
        "import pandas as pd\n",
        "import numpy as np"
      ]
    },
    {
      "cell_type": "code",
      "source": [
        "#reading the data\n",
        "sheet_id = '1a-BnMRzx6wQlNU2qGl9y8Q5lcCgueWppxq13iBbU1EM'\n",
        "sheet_name = 'Data'\n",
        "url = f\"https://docs.google.com/spreadsheets/d/{sheet_id}/gviz/tq?tqx=out:csv&sheet={sheet_name}\"\n",
        "columns = ['merchant', 'user_id', 'year', 'panel_start_date', 'panel_status', 'user_spend']\n",
        "data = pd.read_csv(url, usecols=columns)\n",
        "data.head()"
      ],
      "metadata": {
        "colab": {
          "base_uri": "https://localhost:8080/",
          "height": 206
        },
        "id": "QXsGT0u2kj7N",
        "outputId": "0929d03c-f1f8-49ab-b87b-32b14e1e1707"
      },
      "execution_count": 2,
      "outputs": [
        {
          "output_type": "execute_result",
          "data": {
            "text/plain": [
              "  merchant                           user_id        year panel_start_date  \\\n",
              "0  wayfair  5cd327b15e0d4832bf75dd129de12dfe  2022-01-01       2021-02-22   \n",
              "1  wayfair  1cb4e35332e04ceb9a3c175174097d4b  2022-01-01       2017-05-03   \n",
              "2  wayfair  ea57b7b1585644b3ab35b10a9201ba17  2022-01-01       2022-12-05   \n",
              "3  wayfair  e60141b69fa449008a5c688f1eb51379  2022-01-01       2016-10-23   \n",
              "4  wayfair  615aa1b89a0c4cd69eb2866074e334e6  2022-01-01       2017-01-10   \n",
              "\n",
              "  panel_status  user_spend  \n",
              "0     inactive     1765.94  \n",
              "1       active      199.97  \n",
              "2       active      259.99  \n",
              "3       active      969.99  \n",
              "4       active      110.13  "
            ],
            "text/html": [
              "\n",
              "  <div id=\"df-f8966ad5-3b24-42bc-9647-6dadcaaa2b79\" class=\"colab-df-container\">\n",
              "    <div>\n",
              "<style scoped>\n",
              "    .dataframe tbody tr th:only-of-type {\n",
              "        vertical-align: middle;\n",
              "    }\n",
              "\n",
              "    .dataframe tbody tr th {\n",
              "        vertical-align: top;\n",
              "    }\n",
              "\n",
              "    .dataframe thead th {\n",
              "        text-align: right;\n",
              "    }\n",
              "</style>\n",
              "<table border=\"1\" class=\"dataframe\">\n",
              "  <thead>\n",
              "    <tr style=\"text-align: right;\">\n",
              "      <th></th>\n",
              "      <th>merchant</th>\n",
              "      <th>user_id</th>\n",
              "      <th>year</th>\n",
              "      <th>panel_start_date</th>\n",
              "      <th>panel_status</th>\n",
              "      <th>user_spend</th>\n",
              "    </tr>\n",
              "  </thead>\n",
              "  <tbody>\n",
              "    <tr>\n",
              "      <th>0</th>\n",
              "      <td>wayfair</td>\n",
              "      <td>5cd327b15e0d4832bf75dd129de12dfe</td>\n",
              "      <td>2022-01-01</td>\n",
              "      <td>2021-02-22</td>\n",
              "      <td>inactive</td>\n",
              "      <td>1765.94</td>\n",
              "    </tr>\n",
              "    <tr>\n",
              "      <th>1</th>\n",
              "      <td>wayfair</td>\n",
              "      <td>1cb4e35332e04ceb9a3c175174097d4b</td>\n",
              "      <td>2022-01-01</td>\n",
              "      <td>2017-05-03</td>\n",
              "      <td>active</td>\n",
              "      <td>199.97</td>\n",
              "    </tr>\n",
              "    <tr>\n",
              "      <th>2</th>\n",
              "      <td>wayfair</td>\n",
              "      <td>ea57b7b1585644b3ab35b10a9201ba17</td>\n",
              "      <td>2022-01-01</td>\n",
              "      <td>2022-12-05</td>\n",
              "      <td>active</td>\n",
              "      <td>259.99</td>\n",
              "    </tr>\n",
              "    <tr>\n",
              "      <th>3</th>\n",
              "      <td>wayfair</td>\n",
              "      <td>e60141b69fa449008a5c688f1eb51379</td>\n",
              "      <td>2022-01-01</td>\n",
              "      <td>2016-10-23</td>\n",
              "      <td>active</td>\n",
              "      <td>969.99</td>\n",
              "    </tr>\n",
              "    <tr>\n",
              "      <th>4</th>\n",
              "      <td>wayfair</td>\n",
              "      <td>615aa1b89a0c4cd69eb2866074e334e6</td>\n",
              "      <td>2022-01-01</td>\n",
              "      <td>2017-01-10</td>\n",
              "      <td>active</td>\n",
              "      <td>110.13</td>\n",
              "    </tr>\n",
              "  </tbody>\n",
              "</table>\n",
              "</div>\n",
              "    <div class=\"colab-df-buttons\">\n",
              "\n",
              "  <div class=\"colab-df-container\">\n",
              "    <button class=\"colab-df-convert\" onclick=\"convertToInteractive('df-f8966ad5-3b24-42bc-9647-6dadcaaa2b79')\"\n",
              "            title=\"Convert this dataframe to an interactive table.\"\n",
              "            style=\"display:none;\">\n",
              "\n",
              "  <svg xmlns=\"http://www.w3.org/2000/svg\" height=\"24px\" viewBox=\"0 -960 960 960\">\n",
              "    <path d=\"M120-120v-720h720v720H120Zm60-500h600v-160H180v160Zm220 220h160v-160H400v160Zm0 220h160v-160H400v160ZM180-400h160v-160H180v160Zm440 0h160v-160H620v160ZM180-180h160v-160H180v160Zm440 0h160v-160H620v160Z\"/>\n",
              "  </svg>\n",
              "    </button>\n",
              "\n",
              "  <style>\n",
              "    .colab-df-container {\n",
              "      display:flex;\n",
              "      gap: 12px;\n",
              "    }\n",
              "\n",
              "    .colab-df-convert {\n",
              "      background-color: #E8F0FE;\n",
              "      border: none;\n",
              "      border-radius: 50%;\n",
              "      cursor: pointer;\n",
              "      display: none;\n",
              "      fill: #1967D2;\n",
              "      height: 32px;\n",
              "      padding: 0 0 0 0;\n",
              "      width: 32px;\n",
              "    }\n",
              "\n",
              "    .colab-df-convert:hover {\n",
              "      background-color: #E2EBFA;\n",
              "      box-shadow: 0px 1px 2px rgba(60, 64, 67, 0.3), 0px 1px 3px 1px rgba(60, 64, 67, 0.15);\n",
              "      fill: #174EA6;\n",
              "    }\n",
              "\n",
              "    .colab-df-buttons div {\n",
              "      margin-bottom: 4px;\n",
              "    }\n",
              "\n",
              "    [theme=dark] .colab-df-convert {\n",
              "      background-color: #3B4455;\n",
              "      fill: #D2E3FC;\n",
              "    }\n",
              "\n",
              "    [theme=dark] .colab-df-convert:hover {\n",
              "      background-color: #434B5C;\n",
              "      box-shadow: 0px 1px 3px 1px rgba(0, 0, 0, 0.15);\n",
              "      filter: drop-shadow(0px 1px 2px rgba(0, 0, 0, 0.3));\n",
              "      fill: #FFFFFF;\n",
              "    }\n",
              "  </style>\n",
              "\n",
              "    <script>\n",
              "      const buttonEl =\n",
              "        document.querySelector('#df-f8966ad5-3b24-42bc-9647-6dadcaaa2b79 button.colab-df-convert');\n",
              "      buttonEl.style.display =\n",
              "        google.colab.kernel.accessAllowed ? 'block' : 'none';\n",
              "\n",
              "      async function convertToInteractive(key) {\n",
              "        const element = document.querySelector('#df-f8966ad5-3b24-42bc-9647-6dadcaaa2b79');\n",
              "        const dataTable =\n",
              "          await google.colab.kernel.invokeFunction('convertToInteractive',\n",
              "                                                    [key], {});\n",
              "        if (!dataTable) return;\n",
              "\n",
              "        const docLinkHtml = 'Like what you see? Visit the ' +\n",
              "          '<a target=\"_blank\" href=https://colab.research.google.com/notebooks/data_table.ipynb>data table notebook</a>'\n",
              "          + ' to learn more about interactive tables.';\n",
              "        element.innerHTML = '';\n",
              "        dataTable['output_type'] = 'display_data';\n",
              "        await google.colab.output.renderOutput(dataTable, element);\n",
              "        const docLink = document.createElement('div');\n",
              "        docLink.innerHTML = docLinkHtml;\n",
              "        element.appendChild(docLink);\n",
              "      }\n",
              "    </script>\n",
              "  </div>\n",
              "\n",
              "\n",
              "<div id=\"df-dfbebeba-b38e-4b63-ac8c-b6324285dfaf\">\n",
              "  <button class=\"colab-df-quickchart\" onclick=\"quickchart('df-dfbebeba-b38e-4b63-ac8c-b6324285dfaf')\"\n",
              "            title=\"Suggest charts\"\n",
              "            style=\"display:none;\">\n",
              "\n",
              "<svg xmlns=\"http://www.w3.org/2000/svg\" height=\"24px\"viewBox=\"0 0 24 24\"\n",
              "     width=\"24px\">\n",
              "    <g>\n",
              "        <path d=\"M19 3H5c-1.1 0-2 .9-2 2v14c0 1.1.9 2 2 2h14c1.1 0 2-.9 2-2V5c0-1.1-.9-2-2-2zM9 17H7v-7h2v7zm4 0h-2V7h2v10zm4 0h-2v-4h2v4z\"/>\n",
              "    </g>\n",
              "</svg>\n",
              "  </button>\n",
              "\n",
              "<style>\n",
              "  .colab-df-quickchart {\n",
              "      --bg-color: #E8F0FE;\n",
              "      --fill-color: #1967D2;\n",
              "      --hover-bg-color: #E2EBFA;\n",
              "      --hover-fill-color: #174EA6;\n",
              "      --disabled-fill-color: #AAA;\n",
              "      --disabled-bg-color: #DDD;\n",
              "  }\n",
              "\n",
              "  [theme=dark] .colab-df-quickchart {\n",
              "      --bg-color: #3B4455;\n",
              "      --fill-color: #D2E3FC;\n",
              "      --hover-bg-color: #434B5C;\n",
              "      --hover-fill-color: #FFFFFF;\n",
              "      --disabled-bg-color: #3B4455;\n",
              "      --disabled-fill-color: #666;\n",
              "  }\n",
              "\n",
              "  .colab-df-quickchart {\n",
              "    background-color: var(--bg-color);\n",
              "    border: none;\n",
              "    border-radius: 50%;\n",
              "    cursor: pointer;\n",
              "    display: none;\n",
              "    fill: var(--fill-color);\n",
              "    height: 32px;\n",
              "    padding: 0;\n",
              "    width: 32px;\n",
              "  }\n",
              "\n",
              "  .colab-df-quickchart:hover {\n",
              "    background-color: var(--hover-bg-color);\n",
              "    box-shadow: 0 1px 2px rgba(60, 64, 67, 0.3), 0 1px 3px 1px rgba(60, 64, 67, 0.15);\n",
              "    fill: var(--button-hover-fill-color);\n",
              "  }\n",
              "\n",
              "  .colab-df-quickchart-complete:disabled,\n",
              "  .colab-df-quickchart-complete:disabled:hover {\n",
              "    background-color: var(--disabled-bg-color);\n",
              "    fill: var(--disabled-fill-color);\n",
              "    box-shadow: none;\n",
              "  }\n",
              "\n",
              "  .colab-df-spinner {\n",
              "    border: 2px solid var(--fill-color);\n",
              "    border-color: transparent;\n",
              "    border-bottom-color: var(--fill-color);\n",
              "    animation:\n",
              "      spin 1s steps(1) infinite;\n",
              "  }\n",
              "\n",
              "  @keyframes spin {\n",
              "    0% {\n",
              "      border-color: transparent;\n",
              "      border-bottom-color: var(--fill-color);\n",
              "      border-left-color: var(--fill-color);\n",
              "    }\n",
              "    20% {\n",
              "      border-color: transparent;\n",
              "      border-left-color: var(--fill-color);\n",
              "      border-top-color: var(--fill-color);\n",
              "    }\n",
              "    30% {\n",
              "      border-color: transparent;\n",
              "      border-left-color: var(--fill-color);\n",
              "      border-top-color: var(--fill-color);\n",
              "      border-right-color: var(--fill-color);\n",
              "    }\n",
              "    40% {\n",
              "      border-color: transparent;\n",
              "      border-right-color: var(--fill-color);\n",
              "      border-top-color: var(--fill-color);\n",
              "    }\n",
              "    60% {\n",
              "      border-color: transparent;\n",
              "      border-right-color: var(--fill-color);\n",
              "    }\n",
              "    80% {\n",
              "      border-color: transparent;\n",
              "      border-right-color: var(--fill-color);\n",
              "      border-bottom-color: var(--fill-color);\n",
              "    }\n",
              "    90% {\n",
              "      border-color: transparent;\n",
              "      border-bottom-color: var(--fill-color);\n",
              "    }\n",
              "  }\n",
              "</style>\n",
              "\n",
              "  <script>\n",
              "    async function quickchart(key) {\n",
              "      const quickchartButtonEl =\n",
              "        document.querySelector('#' + key + ' button');\n",
              "      quickchartButtonEl.disabled = true;  // To prevent multiple clicks.\n",
              "      quickchartButtonEl.classList.add('colab-df-spinner');\n",
              "      try {\n",
              "        const charts = await google.colab.kernel.invokeFunction(\n",
              "            'suggestCharts', [key], {});\n",
              "      } catch (error) {\n",
              "        console.error('Error during call to suggestCharts:', error);\n",
              "      }\n",
              "      quickchartButtonEl.classList.remove('colab-df-spinner');\n",
              "      quickchartButtonEl.classList.add('colab-df-quickchart-complete');\n",
              "    }\n",
              "    (() => {\n",
              "      let quickchartButtonEl =\n",
              "        document.querySelector('#df-dfbebeba-b38e-4b63-ac8c-b6324285dfaf button');\n",
              "      quickchartButtonEl.style.display =\n",
              "        google.colab.kernel.accessAllowed ? 'block' : 'none';\n",
              "    })();\n",
              "  </script>\n",
              "</div>\n",
              "\n",
              "    </div>\n",
              "  </div>\n"
            ]
          },
          "metadata": {},
          "execution_count": 2
        }
      ]
    },
    {
      "cell_type": "code",
      "source": [
        "#Now we have our dataframe\n",
        "#Lets check the datatypes from our dataframe\n",
        "data.info()"
      ],
      "metadata": {
        "colab": {
          "base_uri": "https://localhost:8080/"
        },
        "id": "8GWg4yIuqJVZ",
        "outputId": "dd0e8fad-a684-4764-c713-dc8ecbc9cd65"
      },
      "execution_count": 3,
      "outputs": [
        {
          "output_type": "stream",
          "name": "stdout",
          "text": [
            "<class 'pandas.core.frame.DataFrame'>\n",
            "RangeIndex: 150123 entries, 0 to 150122\n",
            "Data columns (total 6 columns):\n",
            " #   Column            Non-Null Count   Dtype  \n",
            "---  ------            --------------   -----  \n",
            " 0   merchant          150123 non-null  object \n",
            " 1   user_id           150123 non-null  object \n",
            " 2   year              150123 non-null  object \n",
            " 3   panel_start_date  150123 non-null  object \n",
            " 4   panel_status      150123 non-null  object \n",
            " 5   user_spend        150123 non-null  float64\n",
            "dtypes: float64(1), object(5)\n",
            "memory usage: 6.9+ MB\n"
          ]
        }
      ]
    },
    {
      "cell_type": "code",
      "source": [
        "#In the dictonary we have the information that the column \"year\" has two values, lets see if it`s correct\n",
        "print(data['year'].unique())"
      ],
      "metadata": {
        "colab": {
          "base_uri": "https://localhost:8080/"
        },
        "id": "gJByMGIdlBs9",
        "outputId": "2700060e-980a-40de-bf55-d01a4778a8fd"
      },
      "execution_count": 4,
      "outputs": [
        {
          "output_type": "stream",
          "name": "stdout",
          "text": [
            "['2022-01-01' '2021-01-01']\n"
          ]
        }
      ]
    },
    {
      "cell_type": "code",
      "source": [
        "#Now we saw that, I`ll replace the values to contain only the year\n",
        "data['year'] = data['year'].replace('2022-01-01', '2022')\n",
        "data['year'] = data['year'].replace('2021-01-01', '2021')\n",
        "print(data['year'].unique())"
      ],
      "metadata": {
        "colab": {
          "base_uri": "https://localhost:8080/"
        },
        "id": "NJXk3Stan2a1",
        "outputId": "7255e9a7-c904-40e3-9e5b-d0a34c4684d4"
      },
      "execution_count": 5,
      "outputs": [
        {
          "output_type": "stream",
          "name": "stdout",
          "text": [
            "['2022' '2021']\n"
          ]
        }
      ]
    },
    {
      "cell_type": "code",
      "source": [
        "#We had have deal with the year column, now let`s slice the data only with the sales from wayfair\n",
        "#First we need to check if all the entry in the column merchant are written the same\n",
        "data['merchant'].unique()"
      ],
      "metadata": {
        "colab": {
          "base_uri": "https://localhost:8080/"
        },
        "id": "tA_13hmvpL1O",
        "outputId": "08f5ebc1-189c-49b4-8c7f-f2251faa62f9"
      },
      "execution_count": 6,
      "outputs": [
        {
          "output_type": "execute_result",
          "data": {
            "text/plain": [
              "array(['wayfair', 'west_elm', 'build_com'], dtype=object)"
            ]
          },
          "metadata": {},
          "execution_count": 6
        }
      ]
    },
    {
      "cell_type": "code",
      "source": [
        "#So we dont have problems with the entry there\n",
        "#We can keep going to slice the data\n",
        "data_wayfair = data.loc[data['merchant'] == 'wayfair'].copy()\n",
        "data_wayfair.head()"
      ],
      "metadata": {
        "colab": {
          "base_uri": "https://localhost:8080/",
          "height": 206
        },
        "id": "hjgcOl4wxXnt",
        "outputId": "e450bfe9-88e2-486d-d25e-be00ce43b15b"
      },
      "execution_count": 7,
      "outputs": [
        {
          "output_type": "execute_result",
          "data": {
            "text/plain": [
              "  merchant                           user_id  year panel_start_date  \\\n",
              "0  wayfair  5cd327b15e0d4832bf75dd129de12dfe  2022       2021-02-22   \n",
              "1  wayfair  1cb4e35332e04ceb9a3c175174097d4b  2022       2017-05-03   \n",
              "2  wayfair  ea57b7b1585644b3ab35b10a9201ba17  2022       2022-12-05   \n",
              "3  wayfair  e60141b69fa449008a5c688f1eb51379  2022       2016-10-23   \n",
              "4  wayfair  615aa1b89a0c4cd69eb2866074e334e6  2022       2017-01-10   \n",
              "\n",
              "  panel_status  user_spend  \n",
              "0     inactive     1765.94  \n",
              "1       active      199.97  \n",
              "2       active      259.99  \n",
              "3       active      969.99  \n",
              "4       active      110.13  "
            ],
            "text/html": [
              "\n",
              "  <div id=\"df-cae5be9a-44f0-4c25-b510-600389c73ef9\" class=\"colab-df-container\">\n",
              "    <div>\n",
              "<style scoped>\n",
              "    .dataframe tbody tr th:only-of-type {\n",
              "        vertical-align: middle;\n",
              "    }\n",
              "\n",
              "    .dataframe tbody tr th {\n",
              "        vertical-align: top;\n",
              "    }\n",
              "\n",
              "    .dataframe thead th {\n",
              "        text-align: right;\n",
              "    }\n",
              "</style>\n",
              "<table border=\"1\" class=\"dataframe\">\n",
              "  <thead>\n",
              "    <tr style=\"text-align: right;\">\n",
              "      <th></th>\n",
              "      <th>merchant</th>\n",
              "      <th>user_id</th>\n",
              "      <th>year</th>\n",
              "      <th>panel_start_date</th>\n",
              "      <th>panel_status</th>\n",
              "      <th>user_spend</th>\n",
              "    </tr>\n",
              "  </thead>\n",
              "  <tbody>\n",
              "    <tr>\n",
              "      <th>0</th>\n",
              "      <td>wayfair</td>\n",
              "      <td>5cd327b15e0d4832bf75dd129de12dfe</td>\n",
              "      <td>2022</td>\n",
              "      <td>2021-02-22</td>\n",
              "      <td>inactive</td>\n",
              "      <td>1765.94</td>\n",
              "    </tr>\n",
              "    <tr>\n",
              "      <th>1</th>\n",
              "      <td>wayfair</td>\n",
              "      <td>1cb4e35332e04ceb9a3c175174097d4b</td>\n",
              "      <td>2022</td>\n",
              "      <td>2017-05-03</td>\n",
              "      <td>active</td>\n",
              "      <td>199.97</td>\n",
              "    </tr>\n",
              "    <tr>\n",
              "      <th>2</th>\n",
              "      <td>wayfair</td>\n",
              "      <td>ea57b7b1585644b3ab35b10a9201ba17</td>\n",
              "      <td>2022</td>\n",
              "      <td>2022-12-05</td>\n",
              "      <td>active</td>\n",
              "      <td>259.99</td>\n",
              "    </tr>\n",
              "    <tr>\n",
              "      <th>3</th>\n",
              "      <td>wayfair</td>\n",
              "      <td>e60141b69fa449008a5c688f1eb51379</td>\n",
              "      <td>2022</td>\n",
              "      <td>2016-10-23</td>\n",
              "      <td>active</td>\n",
              "      <td>969.99</td>\n",
              "    </tr>\n",
              "    <tr>\n",
              "      <th>4</th>\n",
              "      <td>wayfair</td>\n",
              "      <td>615aa1b89a0c4cd69eb2866074e334e6</td>\n",
              "      <td>2022</td>\n",
              "      <td>2017-01-10</td>\n",
              "      <td>active</td>\n",
              "      <td>110.13</td>\n",
              "    </tr>\n",
              "  </tbody>\n",
              "</table>\n",
              "</div>\n",
              "    <div class=\"colab-df-buttons\">\n",
              "\n",
              "  <div class=\"colab-df-container\">\n",
              "    <button class=\"colab-df-convert\" onclick=\"convertToInteractive('df-cae5be9a-44f0-4c25-b510-600389c73ef9')\"\n",
              "            title=\"Convert this dataframe to an interactive table.\"\n",
              "            style=\"display:none;\">\n",
              "\n",
              "  <svg xmlns=\"http://www.w3.org/2000/svg\" height=\"24px\" viewBox=\"0 -960 960 960\">\n",
              "    <path d=\"M120-120v-720h720v720H120Zm60-500h600v-160H180v160Zm220 220h160v-160H400v160Zm0 220h160v-160H400v160ZM180-400h160v-160H180v160Zm440 0h160v-160H620v160ZM180-180h160v-160H180v160Zm440 0h160v-160H620v160Z\"/>\n",
              "  </svg>\n",
              "    </button>\n",
              "\n",
              "  <style>\n",
              "    .colab-df-container {\n",
              "      display:flex;\n",
              "      gap: 12px;\n",
              "    }\n",
              "\n",
              "    .colab-df-convert {\n",
              "      background-color: #E8F0FE;\n",
              "      border: none;\n",
              "      border-radius: 50%;\n",
              "      cursor: pointer;\n",
              "      display: none;\n",
              "      fill: #1967D2;\n",
              "      height: 32px;\n",
              "      padding: 0 0 0 0;\n",
              "      width: 32px;\n",
              "    }\n",
              "\n",
              "    .colab-df-convert:hover {\n",
              "      background-color: #E2EBFA;\n",
              "      box-shadow: 0px 1px 2px rgba(60, 64, 67, 0.3), 0px 1px 3px 1px rgba(60, 64, 67, 0.15);\n",
              "      fill: #174EA6;\n",
              "    }\n",
              "\n",
              "    .colab-df-buttons div {\n",
              "      margin-bottom: 4px;\n",
              "    }\n",
              "\n",
              "    [theme=dark] .colab-df-convert {\n",
              "      background-color: #3B4455;\n",
              "      fill: #D2E3FC;\n",
              "    }\n",
              "\n",
              "    [theme=dark] .colab-df-convert:hover {\n",
              "      background-color: #434B5C;\n",
              "      box-shadow: 0px 1px 3px 1px rgba(0, 0, 0, 0.15);\n",
              "      filter: drop-shadow(0px 1px 2px rgba(0, 0, 0, 0.3));\n",
              "      fill: #FFFFFF;\n",
              "    }\n",
              "  </style>\n",
              "\n",
              "    <script>\n",
              "      const buttonEl =\n",
              "        document.querySelector('#df-cae5be9a-44f0-4c25-b510-600389c73ef9 button.colab-df-convert');\n",
              "      buttonEl.style.display =\n",
              "        google.colab.kernel.accessAllowed ? 'block' : 'none';\n",
              "\n",
              "      async function convertToInteractive(key) {\n",
              "        const element = document.querySelector('#df-cae5be9a-44f0-4c25-b510-600389c73ef9');\n",
              "        const dataTable =\n",
              "          await google.colab.kernel.invokeFunction('convertToInteractive',\n",
              "                                                    [key], {});\n",
              "        if (!dataTable) return;\n",
              "\n",
              "        const docLinkHtml = 'Like what you see? Visit the ' +\n",
              "          '<a target=\"_blank\" href=https://colab.research.google.com/notebooks/data_table.ipynb>data table notebook</a>'\n",
              "          + ' to learn more about interactive tables.';\n",
              "        element.innerHTML = '';\n",
              "        dataTable['output_type'] = 'display_data';\n",
              "        await google.colab.output.renderOutput(dataTable, element);\n",
              "        const docLink = document.createElement('div');\n",
              "        docLink.innerHTML = docLinkHtml;\n",
              "        element.appendChild(docLink);\n",
              "      }\n",
              "    </script>\n",
              "  </div>\n",
              "\n",
              "\n",
              "<div id=\"df-3de593a2-0422-4406-b7a5-c778c3e39e08\">\n",
              "  <button class=\"colab-df-quickchart\" onclick=\"quickchart('df-3de593a2-0422-4406-b7a5-c778c3e39e08')\"\n",
              "            title=\"Suggest charts\"\n",
              "            style=\"display:none;\">\n",
              "\n",
              "<svg xmlns=\"http://www.w3.org/2000/svg\" height=\"24px\"viewBox=\"0 0 24 24\"\n",
              "     width=\"24px\">\n",
              "    <g>\n",
              "        <path d=\"M19 3H5c-1.1 0-2 .9-2 2v14c0 1.1.9 2 2 2h14c1.1 0 2-.9 2-2V5c0-1.1-.9-2-2-2zM9 17H7v-7h2v7zm4 0h-2V7h2v10zm4 0h-2v-4h2v4z\"/>\n",
              "    </g>\n",
              "</svg>\n",
              "  </button>\n",
              "\n",
              "<style>\n",
              "  .colab-df-quickchart {\n",
              "      --bg-color: #E8F0FE;\n",
              "      --fill-color: #1967D2;\n",
              "      --hover-bg-color: #E2EBFA;\n",
              "      --hover-fill-color: #174EA6;\n",
              "      --disabled-fill-color: #AAA;\n",
              "      --disabled-bg-color: #DDD;\n",
              "  }\n",
              "\n",
              "  [theme=dark] .colab-df-quickchart {\n",
              "      --bg-color: #3B4455;\n",
              "      --fill-color: #D2E3FC;\n",
              "      --hover-bg-color: #434B5C;\n",
              "      --hover-fill-color: #FFFFFF;\n",
              "      --disabled-bg-color: #3B4455;\n",
              "      --disabled-fill-color: #666;\n",
              "  }\n",
              "\n",
              "  .colab-df-quickchart {\n",
              "    background-color: var(--bg-color);\n",
              "    border: none;\n",
              "    border-radius: 50%;\n",
              "    cursor: pointer;\n",
              "    display: none;\n",
              "    fill: var(--fill-color);\n",
              "    height: 32px;\n",
              "    padding: 0;\n",
              "    width: 32px;\n",
              "  }\n",
              "\n",
              "  .colab-df-quickchart:hover {\n",
              "    background-color: var(--hover-bg-color);\n",
              "    box-shadow: 0 1px 2px rgba(60, 64, 67, 0.3), 0 1px 3px 1px rgba(60, 64, 67, 0.15);\n",
              "    fill: var(--button-hover-fill-color);\n",
              "  }\n",
              "\n",
              "  .colab-df-quickchart-complete:disabled,\n",
              "  .colab-df-quickchart-complete:disabled:hover {\n",
              "    background-color: var(--disabled-bg-color);\n",
              "    fill: var(--disabled-fill-color);\n",
              "    box-shadow: none;\n",
              "  }\n",
              "\n",
              "  .colab-df-spinner {\n",
              "    border: 2px solid var(--fill-color);\n",
              "    border-color: transparent;\n",
              "    border-bottom-color: var(--fill-color);\n",
              "    animation:\n",
              "      spin 1s steps(1) infinite;\n",
              "  }\n",
              "\n",
              "  @keyframes spin {\n",
              "    0% {\n",
              "      border-color: transparent;\n",
              "      border-bottom-color: var(--fill-color);\n",
              "      border-left-color: var(--fill-color);\n",
              "    }\n",
              "    20% {\n",
              "      border-color: transparent;\n",
              "      border-left-color: var(--fill-color);\n",
              "      border-top-color: var(--fill-color);\n",
              "    }\n",
              "    30% {\n",
              "      border-color: transparent;\n",
              "      border-left-color: var(--fill-color);\n",
              "      border-top-color: var(--fill-color);\n",
              "      border-right-color: var(--fill-color);\n",
              "    }\n",
              "    40% {\n",
              "      border-color: transparent;\n",
              "      border-right-color: var(--fill-color);\n",
              "      border-top-color: var(--fill-color);\n",
              "    }\n",
              "    60% {\n",
              "      border-color: transparent;\n",
              "      border-right-color: var(--fill-color);\n",
              "    }\n",
              "    80% {\n",
              "      border-color: transparent;\n",
              "      border-right-color: var(--fill-color);\n",
              "      border-bottom-color: var(--fill-color);\n",
              "    }\n",
              "    90% {\n",
              "      border-color: transparent;\n",
              "      border-bottom-color: var(--fill-color);\n",
              "    }\n",
              "  }\n",
              "</style>\n",
              "\n",
              "  <script>\n",
              "    async function quickchart(key) {\n",
              "      const quickchartButtonEl =\n",
              "        document.querySelector('#' + key + ' button');\n",
              "      quickchartButtonEl.disabled = true;  // To prevent multiple clicks.\n",
              "      quickchartButtonEl.classList.add('colab-df-spinner');\n",
              "      try {\n",
              "        const charts = await google.colab.kernel.invokeFunction(\n",
              "            'suggestCharts', [key], {});\n",
              "      } catch (error) {\n",
              "        console.error('Error during call to suggestCharts:', error);\n",
              "      }\n",
              "      quickchartButtonEl.classList.remove('colab-df-spinner');\n",
              "      quickchartButtonEl.classList.add('colab-df-quickchart-complete');\n",
              "    }\n",
              "    (() => {\n",
              "      let quickchartButtonEl =\n",
              "        document.querySelector('#df-3de593a2-0422-4406-b7a5-c778c3e39e08 button');\n",
              "      quickchartButtonEl.style.display =\n",
              "        google.colab.kernel.accessAllowed ? 'block' : 'none';\n",
              "    })();\n",
              "  </script>\n",
              "</div>\n",
              "\n",
              "    </div>\n",
              "  </div>\n"
            ]
          },
          "metadata": {},
          "execution_count": 7
        }
      ]
    },
    {
      "cell_type": "code",
      "source": [
        "#Here we have a problem, its seem that the sales has increased 14300% from 2021 to 2022.\n",
        "#Let`s dive in the values of sales of 2022 to search for outliers\n",
        "import matplotlib.pyplot as plt\n",
        "import seaborn as sns\n",
        "\n",
        "plt.figure()\n",
        "plt.subplot(2,1,1)\n",
        "plt.grid()\n",
        "sns.boxplot(data_wayfair, x='user_spend', y='year')\n",
        "plt.title('Boxplot of sales by year of Wayfair')\n",
        "plt.show()\n",
        "\n",
        "plt.subplot(2,1,2)\n",
        "plt.grid()\n",
        "sns.boxplot(data_wayfair.loc[data_wayfair['year']=='2021'], x='user_spend', y='year')\n",
        "plt.title('Boxplot of sales in 2021 of Wayfair')\n",
        "plt.show()"
      ],
      "metadata": {
        "colab": {
          "base_uri": "https://localhost:8080/",
          "height": 523
        },
        "id": "xIRSyThRQ38z",
        "outputId": "b6410930-1b4a-4ef6-f0e7-0f4d5c996212"
      },
      "execution_count": 8,
      "outputs": [
        {
          "output_type": "display_data",
          "data": {
            "text/plain": [
              "<Figure size 640x480 with 1 Axes>"
            ],
            "image/png": "[encoded data removed]"
          },
          "metadata": {}
        },
        {
          "output_type": "display_data",
          "data": {
            "text/plain": [
              "<Figure size 640x480 with 1 Axes>"
            ],
            "image/png": "[encoded data removed]"
          },
          "metadata": {}
        }
      ]
    },
    {
      "cell_type": "code",
      "source": [
        "#First we need to discover how many times that entry of 1kk occurs\n",
        "#We can also see some outliers in the second boxplot, which represent the sales in 2021\n",
        "#I will not treat them because they can be very important, in other analysis it can be\n",
        "#usefull understand why there is such shopping orders to try to achive more orders like that\n",
        "occ_1billion = (data_wayfair['user_spend'] == 1000000000).sum()\n",
        "occ_1billion"
      ],
      "metadata": {
        "colab": {
          "base_uri": "https://localhost:8080/"
        },
        "id": "4tRiKaNgeQ9y",
        "outputId": "94fd50e5-fafe-4f4e-a2d3-1c9f99f666a6"
      },
      "execution_count": 9,
      "outputs": [
        {
          "output_type": "execute_result",
          "data": {
            "text/plain": [
              "6"
            ]
          },
          "metadata": {},
          "execution_count": 9
        }
      ]
    },
    {
      "cell_type": "code",
      "source": [
        "#Since that happens six times, we need to rip off those six entrys\n",
        "list_indexs = data_wayfair[data_wayfair['user_spend'] == 1000000000].index\n",
        "data_wayfair = data_wayfair.drop(list_indexs)\n",
        "data_wayfair['user_spend'].max()"
      ],
      "metadata": {
        "colab": {
          "base_uri": "https://localhost:8080/"
        },
        "id": "3jEJ3s-pZZQb",
        "outputId": "c7ea3146-0327-4952-8b2b-d5496ff65423"
      },
      "execution_count": 10,
      "outputs": [
        {
          "output_type": "execute_result",
          "data": {
            "text/plain": [
              "89376.58"
            ]
          },
          "metadata": {},
          "execution_count": 10
        }
      ]
    },
    {
      "cell_type": "code",
      "source": [
        "#Now we can calculate the total sales of Wayfair in 2021 and 2022\n",
        "total_sales_year = data_wayfair.groupby('year')['user_spend'].sum()\n",
        "total_sales_2021 = int(total_sales_year[0])\n",
        "total_sales_2022 = int(total_sales_year[1])\n",
        "total_sales_2021, total_sales_2022"
      ],
      "metadata": {
        "colab": {
          "base_uri": "https://localhost:8080/"
        },
        "id": "PPlc-iUlz-8C",
        "outputId": "5b2d8eb5-814c-46c1-fa02-9a02fd96da1e"
      },
      "execution_count": 11,
      "outputs": [
        {
          "output_type": "execute_result",
          "data": {
            "text/plain": [
              "(42058620, 34495972)"
            ]
          },
          "metadata": {},
          "execution_count": 11
        }
      ]
    },
    {
      "cell_type": "code",
      "source": [
        "#Moving on we will calculate the retention\n",
        "#Retetion can be defined as the percentage of users that shopped in 2021 and returned to shopp in 2022\n",
        "#Identify customers that shopped 2021\n",
        "customers_2021 = set(data_wayfair[data_wayfair['year'] == '2021']['user_id'].unique())\n",
        "\n",
        "#Identify customers that shopped 2022\n",
        "customers_2022 = set(data_wayfair[data_wayfair['year'] == '2022']['user_id'].unique())\n",
        "\n",
        "#Calculate the intersection of the customers\n",
        "retained_customers = customers_2021.intersection(customers_2022)\n",
        "\n",
        "#Calculate the retention percentage\n",
        "retained_percentage = len(retained_customers) / len(customers_2021) * 100\n",
        "\n",
        "#Show the retention percentage\n",
        "print(f\"Customer retention percentage: {retained_percentage:.2f}%\")"
      ],
      "metadata": {
        "colab": {
          "base_uri": "https://localhost:8080/"
        },
        "id": "95N6RM6udzME",
        "outputId": "23d6e317-6f13-4eee-f0fa-c5f0a735e175"
      },
      "execution_count": 12,
      "outputs": [
        {
          "output_type": "stream",
          "name": "stdout",
          "text": [
            "Customer retention percentage: 25.08%\n"
          ]
        }
      ]
    },
    {
      "cell_type": "code",
      "source": [
        "#In the next part we will calculate how much of receipt those retained customers had brought in 2022\n",
        "#We`ll start by filter the Wayfair dataset only by the retained customers\n",
        "retained_customers_df = data_wayfair[data_wayfair['user_id'].isin(retained_customers)]\n",
        "\n",
        "#Include only the shopping by retained customers in 2022\n",
        "shopping_retained_customers_2022 = retained_customers_df[(retained_customers_df['year'] == '2022')]\n",
        "\n",
        "#Evaluate the revenue by the shopping of the retained customers\n",
        "revenue_retained_customers_2022 = shopping_retained_customers_2022['user_spend'].sum()\n",
        "\n",
        "#Calculate the percentage of the sales of 2022 that comes from retained customers\n",
        "perc_revenue_retained_customers = round(revenue_retained_customers_2022 / total_sales_2022, 3) * 100\n",
        "print(f\"Revenue by retained customers: {perc_revenue_retained_customers:.1f}%\")"
      ],
      "metadata": {
        "colab": {
          "base_uri": "https://localhost:8080/"
        },
        "id": "hz1dptuNg26j",
        "outputId": "c433800b-009d-4f9e-ab64-8d003cfb277a"
      },
      "execution_count": 13,
      "outputs": [
        {
          "output_type": "stream",
          "name": "stdout",
          "text": [
            "Revenue by retained customers: 41.8%\n"
          ]
        }
      ]
    },
    {
      "cell_type": "code",
      "source": [
        "#Now lets design a barplot to have a look in a visual to the sales of 2021 and 2022\n",
        "#FOr this I will part the sales of 2022 in retained customers and new customers.\n",
        "\n",
        "revenue_new_customers_2022 = total_sales_2022 - revenue_retained_customers_2022\n",
        "new_customers_2022 = customers_2022 - retained_customers\n",
        "\n",
        "df_2021 = data_wayfair[data_wayfair['year']=='2021'].copy()\n",
        "revenue_2021 = df_2021['user_spend'].sum()\n",
        "rev_2022 = pd.DataFrame({\n",
        "    'Year':[2021,2022, 2022],\n",
        "    'Revenue':[revenue_2021 ,revenue_retained_customers_2022, revenue_new_customers_2022],\n",
        "    'Type':['2021 Customers','Retained Customers', 'New Customers']\n",
        "})\n",
        "\n",
        "\n",
        "plt.figure(figsize=(8,6), dpi=72)\n",
        "sns.histplot(rev_2022, x='Year', weights=\"Revenue\", hue='Type', multiple='stack', discrete=True)\n",
        "plt.xticks([2021, 2022])\n",
        "sns.despine(left=True)\n",
        "plt.title(\"Revenue of Wayfair in 2021 and 2022 by type of customer\")\n",
        "plt.ylim(0,45000000)\n",
        "plt.ylabel(\"Revenue in tens of milions dollars\")\n",
        "plt.savefig('revenue.jpg')\n",
        "plt.show()"
      ],
      "metadata": {
        "colab": {
          "base_uri": "https://localhost:8080/",
          "height": 411
        },
        "id": "9_VCici3yY_f",
        "outputId": "6097623e-0ba4-4aee-f5ce-105e99104f59"
      },
      "execution_count": 74,
      "outputs": [
        {
          "output_type": "display_data",
          "data": {
            "text/plain": [
              "<Figure size 576x432 with 1 Axes>"
            ],
            "image/png": "[encoded data removed]"
          },
          "metadata": {}
        }
      ]
    },
    {
      "cell_type": "code",
      "source": [
        "cus_2022 = pd.DataFrame({\n",
        "    'Year':[2022, 2022],\n",
        "    'Percentage':[round(len(retained_customers)/len(customers_2022),2)*100, round(len(new_customers_2022)/len(customers_2022),2)*100],\n",
        "    'Type':['Retained Customers', 'New Customers']\n",
        "})\n",
        "\n",
        "new_customers_percentage = (round((len(new_customers_2022)/len(customers_2022)),2))*100\n",
        "retained_perc_relation_to2022 = round((len(retained_customers)/len(customers_2022)),2)*100\n",
        "plt.figure(figsize=(8,6), dpi=72)\n",
        "ax = sns.histplot(cus_2022, x='Year', weights=\"Percentage\", hue='Type', multiple='stack', discrete=True)\n",
        "plt.xticks([2022])\n",
        "sns.despine(left=True)\n",
        "plt.title(\"Percentage of the Wayfair order in 2022 by type of customer\")\n",
        "plt.text(0.5, 0.5, new_customers_percentage, transform=ax.transAxes, fontsize=14)\n",
        "plt.text(0.5, 0.8, retained_perc_relation_to2022, transform=ax.transAxes, fontsize=14)\n",
        "plt.ylabel(\"Percentage (%)\")\n",
        "plt.savefig('percentage.jpg')\n",
        "plt.show()"
      ],
      "metadata": {
        "colab": {
          "base_uri": "https://localhost:8080/",
          "height": 411
        },
        "id": "DnONmI07QiSr",
        "outputId": "5f91d865-8675-4036-870b-31a665e501c7"
      },
      "execution_count": 76,
      "outputs": [
        {
          "output_type": "display_data",
          "data": {
            "text/plain": [
              "<Figure size 576x432 with 1 Axes>"
            ],
            "image/png": "[encoded data removed]"
          },
          "metadata": {}
        }
      ]
    },
    {
      "cell_type": "code",
      "source": [
        "#In the image above we can see that from all the customers that shopped in Wayfair in 2022,\n",
        "#32% of them were retained customers and 41.8% of the revenue in 2022 were due to these customers.\n"
      ],
      "metadata": {
        "id": "8ZhB7WJwYtZ0"
      },
      "execution_count": null,
      "outputs": []
    }
  ]
}